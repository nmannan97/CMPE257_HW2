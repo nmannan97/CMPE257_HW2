{
 "nbformat": 4,
 "nbformat_minor": 2,
 "metadata": {
  "language_info": {
   "name": "python",
   "codemirror_mode": {
    "name": "ipython",
    "version": 3
   },
   "version": "3.7.3-final"
  },
  "orig_nbformat": 2,
  "file_extension": ".py",
  "mimetype": "text/x-python",
  "name": "python",
  "npconvert_exporter": "python",
  "pygments_lexer": "ipython3",
  "version": 3,
  "kernelspec": {
   "name": "python37364bit2f752b6442744bc59f1d8360352f04f7",
   "display_name": "Python 3.7.3 64-bit"
  }
 },
 "cells": [
  {
   "cell_type": "code",
   "execution_count": 327,
   "metadata": {},
   "outputs": [],
   "source": [
    "import math"
   ]
  },
  {
   "cell_type": "code",
   "execution_count": 328,
   "metadata": {},
   "outputs": [],
   "source": [
    "def H_x(counter,sum, w, datax = [], datay = [] ): # 1 dimensional H(x) function, GD\n",
    "    if counter<len(datax):    \n",
    "        sum+=math.pow(w*float(datax[counter])-float(datay[counter]),2)\n",
    "        counter+=1\n",
    "        return H_x(counter, sum, w, datax, datay)\n",
    "    else:\n",
    "        return sum/(len(datax)-1)"
   ]
  },
  {
   "cell_type": "code",
   "execution_count": 329,
   "metadata": {},
   "outputs": [],
   "source": [
    "x0 = []\n",
    "x1 = []\n",
    "x2 = []\n",
    "x3 = []\n",
    "x4 = []\n",
    "x5 = []\n",
    "x6 = []\n",
    "y = []"
   ]
  },
  {
   "cell_type": "code",
   "execution_count": 330,
   "metadata": {},
   "outputs": [],
   "source": [
    "Csv = open('Real estate.csv','r')"
   ]
  },
  {
   "cell_type": "code",
   "execution_count": 331,
   "metadata": {},
   "outputs": [],
   "source": [
    "import csv"
   ]
  },
  {
   "cell_type": "code",
   "execution_count": 332,
   "metadata": {},
   "outputs": [],
   "source": [
    "read = csv.reader(Csv)"
   ]
  },
  {
   "cell_type": "code",
   "execution_count": 333,
   "metadata": {},
   "outputs": [],
   "source": [
    "for row in read:\n",
    "    for j in range(8):\n",
    "        if j == 0:\n",
    "            x0.append(row[j])\n",
    "        elif j == 1:\n",
    "            x1.append(row[j])\n",
    "        elif j == 2:\n",
    "            x2.append(row[j])\n",
    "        elif j == 3:\n",
    "            x3.append(row[j])\n",
    "        elif j == 4:\n",
    "            x4.append(row[j])\n",
    "        elif j == 5:\n",
    "            x5.append(row[j])\n",
    "        elif j == 6:\n",
    "            x6.append(row[j])\n",
    "        elif j == 7:\n",
    "            y.append(row[j])"
   ]
  },
  {
   "cell_type": "code",
   "execution_count": 334,
   "metadata": {},
   "outputs": [
    {
     "name": "stdout",
     "output_type": "stream",
     "text": "1627.1843961352647\n"
    }
   ],
   "source": [
    "print(H_x(1,0,0,x1,y))"
   ]
  },
  {
   "cell_type": "code",
   "execution_count": 335,
   "metadata": {},
   "outputs": [
    {
     "name": "stdout",
     "output_type": "stream",
     "text": "3901475.799630968\n26862.848626700972\n503.2588462626615\n1478.3169214187142\n1611.9328994663178\n1625.6555989764\n1627.0314799444582\n1627.169104151435\n1627.1828669332351\n1627.184243215026\n"
    }
   ],
   "source": [
    "for i in range(10):\n",
    "    w = 1/math.pow(10,i)\n",
    "    print(H_x(1,0,w,x1,y))# w should be 0.01 for x1"
   ]
  },
  {
   "cell_type": "code",
   "execution_count": 336,
   "metadata": {},
   "outputs": [],
   "source": [
    "def W_SGD(counter, sum, w, alpha, datax = [], datay = []):# 1D GSD\n",
    "    if counter<len(datax):    \n",
    "        sum+=(w*float(datax[counter])-float(datay[counter]))*float(datax[counter])\n",
    "        counter+=1\n",
    "        return W_SGD(counter, sum, w, alpha, datax, datay)\n",
    "    else:\n",
    "        return w - alpha*(sum/(len(datax)-1))"
   ]
  },
  {
   "cell_type": "code",
   "execution_count": 337,
   "metadata": {},
   "outputs": [
    {
     "name": "stdout",
     "output_type": "stream",
     "text": "359.33433199579247\n"
    }
   ],
   "source": [
    "print(W_SGD(1 , 0, 0.01, 0.01, x1, y))"
   ]
  },
  {
   "cell_type": "code",
   "execution_count": 338,
   "metadata": {},
   "outputs": [],
   "source": [
    "import numpy as np"
   ]
  },
  {
   "cell_type": "code",
   "execution_count": 339,
   "metadata": {},
   "outputs": [],
   "source": [
    "xtot = []\n",
    "ytot = []"
   ]
  },
  {
   "cell_type": "code",
   "execution_count": 340,
   "metadata": {},
   "outputs": [],
   "source": [
    "Csv = open('Real estate.csv','r')"
   ]
  },
  {
   "cell_type": "code",
   "execution_count": 341,
   "metadata": {},
   "outputs": [],
   "source": [
    "read = csv.reader(Csv)"
   ]
  },
  {
   "cell_type": "code",
   "execution_count": 342,
   "metadata": {},
   "outputs": [],
   "source": [
    "for row in read:\n",
    "    temp = []\n",
    "    for j in range(8):\n",
    "        if j == 6:\n",
    "            ytot.append(row[j])\n",
    "            xtot.append(temp)\n",
    "        else:\n",
    "            temp.append(row[j])"
   ]
  },
  {
   "cell_type": "code",
   "execution_count": 343,
   "metadata": {},
   "outputs": [],
   "source": [
    "xdata = np.array(xtot) \n",
    "ydata = np.array(ytot)"
   ]
  },
  {
   "cell_type": "code",
   "execution_count": 344,
   "metadata": {},
   "outputs": [],
   "source": [
    "def W_SGD2(counter, sum, w, alpha, datax = [], datay = []):# 1D GSD\n",
    "    temp = []\n",
    "    if counter<len(datax):\n",
    "        for i in range(8):\n",
    "            temp.append(float(w))\n",
    "        W = np.array(temp)\n",
    "        W1 = W.transpose()\n",
    "        #sum = np.subtract(np.multiply(datax[counter],W),datay[counter])\n",
    "        sum += (W1*(datax[counter])-(datay[counter]))*(datax[counter])\n",
    "        counter+=1\n",
    "        return W_SGD2(counter, sum, w, alpha, datax, datay)\n",
    "    else:\n",
    "        return w - alpha*(sum/(len(datax)-1))"
   ]
  },
  {
   "cell_type": "code",
   "execution_count": 345,
   "metadata": {},
   "outputs": [
    {
     "name": "stdout",
     "output_type": "stream",
     "text": "764.6012178768113 6.401649516908211 296.2625778622466 1.7832850241545886 9.484206131594192 46.15969548190822\n-3288.0676409333814 6.058439516908214 -2467.518605214862 1.8578671497584545 8.96075351519364 31.489337389848576\n-45.932553885227065 6.333007516908213 -256.4936587531755 1.7982014492753613 9.379515608314083 43.22562386349629\n643.0211521125062 6.391353216908213 213.349142369933 1.7855224879227076 9.468502553102184 45.71958473914645\n748.3905424415713 6.400276676908216 285.207453129938 1.7835833526570062 9.482112321128593 46.10101404953995\n762.5748834474066 6.401477911908219 294.8806872707076 1.7833223152173912 9.483944405286001 46.15236030286213\n764.3580577452826 6.401628924308214 296.0967509912615 1.7832894990821242 9.484174724437212 46.15881526042268\n764.5728491948001 6.4016471144382106 296.24323139396455 1.7832855462294666 9.484202467425897 46.15959278940157\n764.5979757417248 6.401649242340207 296.2603668372996 1.7832850838202892 9.484205712832107 46.159683745621706\n764.6008531366148 6.401649486019313 296.2623291219402 1.7832850308669794 9.484206084483475 46.15969416157599\n"
    }
   ],
   "source": [
    "for i in range(10): # w = 0.001 or 0.01 seemingly is the best for all of them\n",
    "    w = i/math.pow(10,i)\n",
    "    cost1 = W_SGD(1,0,w,0.01,x1, y)\n",
    "    cost2 = W_SGD(1,0,w,0.01,x2, y)\n",
    "    cost3 = W_SGD(1,0,w,0.01,x3, y)\n",
    "    cost4 = W_SGD(1,0,w,0.01,x4, y)\n",
    "    cost5 = W_SGD(1,0,w,0.01,x5, y)\n",
    "    cost6 = W_SGD(1,0,w,0.01,x6, y)\n",
    "    print(cost1, cost2, cost3, cost4, cost5, cost6)"
   ]
  },
  {
   "cell_type": "code",
   "execution_count": 346,
   "metadata": {},
   "outputs": [
    {
     "name": "stdout",
     "output_type": "stream",
     "text": "X4 number of convenience stores\n"
    }
   ],
   "source": [
    "print(x4[0])"
   ]
  },
  {
   "cell_type": "code",
   "execution_count": 352,
   "metadata": {},
   "outputs": [],
   "source": [
    "def W_SGD2(counter, sum, w, xpoint, alpha, datax = [], datay = []):# 1D GSD, \n",
    "    if counter<len(datax):\n",
    "        hx = 0\n",
    "        for i in range(7):\n",
    "            hx += w*float(datax[counter][i])\n",
    "        sum += (hx-float(datay[counter]))*(float(datax[counter][xpoint]))\n",
    "        counter += 1\n",
    "        return W_SGD2(counter, sum, w, xpoint, alpha, datax, datay)\n",
    "    else:\n",
    "        return w - alpha*(sum/(len(datax)-1))"
   ]
  },
  {
   "cell_type": "code",
   "execution_count": 354,
   "metadata": {},
   "outputs": [
    {
     "name": "stdout",
     "output_type": "stream",
     "text": "1764.340863232742\n"
    }
   ],
   "source": [
    "print(W_SGD2(1,0,0.01,1,0.01,xdata, ydata))"
   ]
  },
  {
   "cell_type": "code",
   "execution_count": 359,
   "metadata": {},
   "outputs": [
    {
     "name": "stdout",
     "output_type": "stream",
     "text": "-1125.9896839249757\n-71.05524245878026\n34.43820168783936\n44.98754610250134\n46.042480543967514\n46.14797398811417\n46.158523332528816\n46.15957826697022\n46.15968376041441\n46.15969430975883\n"
    }
   ],
   "source": [
    "for i in range(10):\n",
    "    w = 1/math.pow(10,i)\n",
    "    print(W_SGD2(1,0,w,6,0.01,xdata, ydata))"
   ]
  },
  {
   "cell_type": "code",
   "execution_count": null,
   "metadata": {},
   "outputs": [],
   "source": []
  }
 ]
}