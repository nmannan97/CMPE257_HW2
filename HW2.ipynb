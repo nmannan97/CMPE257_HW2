{
 "nbformat": 4,
 "nbformat_minor": 2,
 "metadata": {
  "language_info": {
   "name": "python",
   "codemirror_mode": {
    "name": "ipython",
    "version": 3
   },
   "version": "3.7.3-final"
  },
  "orig_nbformat": 2,
  "file_extension": ".py",
  "mimetype": "text/x-python",
  "name": "python",
  "npconvert_exporter": "python",
  "pygments_lexer": "ipython3",
  "version": 3,
  "kernelspec": {
   "name": "python37364bit2f752b6442744bc59f1d8360352f04f7",
   "display_name": "Python 3.7.3 64-bit"
  }
 },
 "cells": [
  {
   "cell_type": "code",
   "execution_count": 124,
   "metadata": {},
   "outputs": [],
   "source": [
    "import math"
   ]
  },
  {
   "cell_type": "code",
   "execution_count": 125,
   "metadata": {},
   "outputs": [],
   "source": [
    "def H_x(counter,sum, w, datax = [], datay = [] ): # 1 dimensional H(x) function, GD\n",
    "    if counter<len(datax):    \n",
    "        sum+=math.pow(w*float(datax[counter])-float(datay[counter]),2)\n",
    "        counter+=1\n",
    "        return H_x(counter, sum, w, datax, datay)\n",
    "    else:\n",
    "        return sum/(len(datax)-1)"
   ]
  },
  {
   "cell_type": "code",
   "execution_count": 126,
   "metadata": {},
   "outputs": [],
   "source": [
    "x0 = []\n",
    "x1 = []\n",
    "x2 = []\n",
    "x3 = []\n",
    "x4 = []\n",
    "x5 = []\n",
    "x6 = []\n",
    "y = []"
   ]
  },
  {
   "cell_type": "code",
   "execution_count": 127,
   "metadata": {},
   "outputs": [],
   "source": [
    "Csv = open('Real estate.csv','r')"
   ]
  },
  {
   "cell_type": "code",
   "execution_count": 128,
   "metadata": {},
   "outputs": [],
   "source": [
    "import csv"
   ]
  },
  {
   "cell_type": "code",
   "execution_count": 129,
   "metadata": {},
   "outputs": [],
   "source": [
    "read = csv.reader(Csv)"
   ]
  },
  {
   "cell_type": "code",
   "execution_count": 130,
   "metadata": {},
   "outputs": [],
   "source": [
    "for row in read:\n",
    "    for j in range(8):\n",
    "        if j == 0:\n",
    "            x0.append(row[j])\n",
    "        elif j == 1:\n",
    "            x1.append(row[j])\n",
    "        elif j == 2:\n",
    "            x2.append(row[j])\n",
    "        elif j == 3:\n",
    "            x3.append(row[j])\n",
    "        elif j == 4:\n",
    "            x4.append(row[j])\n",
    "        elif j == 5:\n",
    "            x5.append(row[j])\n",
    "        elif j == 6:\n",
    "            x6.append(row[j])\n",
    "        elif j == 7:\n",
    "            y.append(row[j])"
   ]
  },
  {
   "cell_type": "code",
   "execution_count": 131,
   "metadata": {},
   "outputs": [
    {
     "name": "stdout",
     "output_type": "stream",
     "text": "1627.1843961352647\n"
    }
   ],
   "source": [
    "print(H_x(1,0,0,x1,y))"
   ]
  },
  {
   "cell_type": "code",
   "execution_count": 132,
   "metadata": {},
   "outputs": [
    {
     "name": "stdout",
     "output_type": "stream",
     "text": "3901475.799630968\n26862.848626700972\n503.2588462626615\n1478.3169214187142\n1611.9328994663178\n1625.6555989764\n1627.0314799444582\n1627.169104151435\n1627.1828669332351\n1627.184243215026\n"
    }
   ],
   "source": [
    "for i in range(10):\n",
    "    w = 1/math.pow(10,i)\n",
    "    print(H_x(1,0,w,x1,y))# w should be 0.01 for x1"
   ]
  },
  {
   "cell_type": "code",
   "execution_count": 133,
   "metadata": {},
   "outputs": [],
   "source": [
    "def W_SGD(counter, sum, w, alpha, datax = [], datay = []):# 1D GSD\n",
    "    if counter<len(datax):    \n",
    "        sum+=(w*float(datax[counter])-float(datay[counter]))*float(datax[counter])\n",
    "        counter+=1\n",
    "        return W_SGD(counter, sum, w, alpha, datax, datay)\n",
    "    else:\n",
    "        return w - alpha*(sum/(len(datax)-1))"
   ]
  },
  {
   "cell_type": "code",
   "execution_count": 134,
   "metadata": {},
   "outputs": [
    {
     "name": "stdout",
     "output_type": "stream",
     "text": "359.33433199579247\n"
    }
   ],
   "source": [
    "print(W_SGD(1 , 0, 0.01, 0.01, x1, y))"
   ]
  },
  {
   "cell_type": "code",
   "execution_count": 135,
   "metadata": {},
   "outputs": [],
   "source": [
    "import numpy as np"
   ]
  },
  {
   "cell_type": "code",
   "execution_count": 147,
   "metadata": {},
   "outputs": [],
   "source": [
    "xtot = []\n",
    "ytot = []"
   ]
  },
  {
   "cell_type": "code",
   "execution_count": 148,
   "metadata": {},
   "outputs": [],
   "source": [
    "Csv = open('Real estate.csv','r')"
   ]
  },
  {
   "cell_type": "code",
   "execution_count": 149,
   "metadata": {},
   "outputs": [],
   "source": [
    "read = csv.reader(Csv)"
   ]
  },
  {
   "cell_type": "code",
   "execution_count": 150,
   "metadata": {},
   "outputs": [],
   "source": [
    "for row in read:\n",
    "    temp = []\n",
    "    for j in range(8):\n",
    "        if j == 6:\n",
    "            ytot.append(row[j])\n",
    "            xtot.append(temp)\n",
    "        else:\n",
    "            temp.append(row[j])"
   ]
  },
  {
   "cell_type": "code",
   "execution_count": 151,
   "metadata": {},
   "outputs": [],
   "source": [
    "xdata = np.array(xtot) "
   ]
  },
  {
   "cell_type": "code",
   "execution_count": 152,
   "metadata": {},
   "outputs": [
    {
     "name": "stdout",
     "output_type": "stream",
     "text": "[['No' 'X1 transaction date' 'X2 house age' ...\n  'X4 number of convenience stores' 'X5 latitude'\n  'Y house price of unit area']\n ['1' '2012.917' '32' ... '10' '24.98298' '37.9']\n ['2' '2012.917' '19.5' ... '9' '24.98034' '42.2']\n ...\n ['412' '2013.250' '18.8' ... '7' '24.97923' '40.6']\n ['413' '2013.000' '8.1' ... '5' '24.96674' '52.5']\n ['414' '2013.500' '6.5' ... '9' '24.97433' '63.9']]\n"
    }
   ],
   "source": [
    "print(xdata)"
   ]
  },
  {
   "cell_type": "code",
   "execution_count": null,
   "metadata": {},
   "outputs": [],
   "source": []
  }
 ]
}