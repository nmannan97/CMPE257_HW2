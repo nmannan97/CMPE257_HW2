{
 "nbformat": 4,
 "nbformat_minor": 2,
 "metadata": {
  "language_info": {
   "name": "python",
   "codemirror_mode": {
    "name": "ipython",
    "version": 3
   },
   "version": "3.7.3-final"
  },
  "orig_nbformat": 2,
  "file_extension": ".py",
  "mimetype": "text/x-python",
  "name": "python",
  "npconvert_exporter": "python",
  "pygments_lexer": "ipython3",
  "version": 3,
  "kernelspec": {
   "name": "python37364bit2f752b6442744bc59f1d8360352f04f7",
   "display_name": "Python 3.7.3 64-bit"
  }
 },
 "cells": [
  {
   "cell_type": "code",
   "execution_count": 15,
   "metadata": {},
   "outputs": [],
   "source": [
    "import math"
   ]
  },
  {
   "cell_type": "code",
   "execution_count": 30,
   "metadata": {},
   "outputs": [],
   "source": [
    "def H_x(counter,sum, w, datax = [], datay = [] ): # 1 dimensional H(x) function\n",
    "    if counter<len(datax):\n",
    "        \n",
    "        sum+=math.pow(w*float(datax[counter])-float(datay[counter]),2)\n",
    "        counter+=1\n",
    "        return H_x(counter, sum, w, datax, datay)\n",
    "    else:\n",
    "        return sum/(len(datax)-1)"
   ]
  },
  {
   "cell_type": "code",
   "execution_count": 31,
   "metadata": {},
   "outputs": [],
   "source": [
    "x0 = []\n",
    "x1 = []\n",
    "x2 = []\n",
    "x3 = []\n",
    "x4 = []\n",
    "x5 = []\n",
    "x6 = []\n",
    "y = []"
   ]
  },
  {
   "cell_type": "code",
   "execution_count": 32,
   "metadata": {},
   "outputs": [],
   "source": [
    "Csv = open('Real estate.csv','r')"
   ]
  },
  {
   "cell_type": "code",
   "execution_count": 33,
   "metadata": {},
   "outputs": [],
   "source": [
    "import csv"
   ]
  },
  {
   "cell_type": "code",
   "execution_count": 34,
   "metadata": {},
   "outputs": [],
   "source": [
    "read = csv.reader(Csv)"
   ]
  },
  {
   "cell_type": "code",
   "execution_count": 35,
   "metadata": {},
   "outputs": [],
   "source": [
    "for row in read:\n",
    "    for j in range(8):\n",
    "        if j == 0:\n",
    "            x0.append(row[j])\n",
    "        elif j == 1:\n",
    "            x1.append(row[j])\n",
    "        elif j == 2:\n",
    "            x2.append(row[j])\n",
    "        elif j == 3:\n",
    "            x3.append(row[j])\n",
    "        elif j == 4:\n",
    "            x4.append(row[j])\n",
    "        elif j == 5:\n",
    "            x5.append(row[j])\n",
    "        elif j == 6:\n",
    "            x6.append(row[j])\n",
    "        elif j == 7:\n",
    "            y.append(row[j])"
   ]
  },
  {
   "cell_type": "code",
   "execution_count": 41,
   "metadata": {},
   "outputs": [
    {
     "name": "stdout",
     "output_type": "stream",
     "text": "1627.1843961352647\n"
    }
   ],
   "source": [
    "print(H_x(1,0,0,x1,y))"
   ]
  },
  {
   "cell_type": "code",
   "execution_count": null,
   "metadata": {},
   "outputs": [],
   "source": []
  }
 ]
}